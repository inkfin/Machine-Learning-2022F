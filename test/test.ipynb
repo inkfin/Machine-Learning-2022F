{
 "cells": [
  {
   "cell_type": "code",
   "execution_count": 18,
   "metadata": {},
   "outputs": [
    {
     "name": "stdout",
     "output_type": "stream",
     "text": [
      "[[3 0]\n",
      " [3 0]\n",
      " [3 0]\n",
      " [3 0]\n",
      " [3 0]\n",
      " [3 0]\n",
      " [3 0]\n",
      " [3 0]\n",
      " [3 0]\n",
      " [3 0]\n",
      " [1 0]\n",
      " [1 0]\n",
      " [1 0]\n",
      " [1 0]\n",
      " [1 0]\n",
      " [1 0]\n",
      " [1 0]\n",
      " [1 0]\n",
      " [1 0]\n",
      " [1 0]]\n"
     ]
    },
    {
     "data": {
      "text/plain": [
       "Counter({3: 10, 1: 10})"
      ]
     },
     "execution_count": 18,
     "metadata": {},
     "output_type": "execute_result"
    }
   ],
   "source": [
    "from collections import Counter\n",
    "import numpy as np\n",
    "\n",
    "Arr = np.array([[3, 0] for x in range(10)])\n",
    "\n",
    "Arr2 = np.array([[1,0] for x in range(10)])\n",
    "\n",
    "Arr = np.append(Arr, Arr2, axis=0)\n",
    "\n",
    "print(Arr)\n",
    "\n",
    "cc = Counter(Arr[:,0])\n",
    "\n",
    "cc"
   ]
  },
  {
   "cell_type": "code",
   "execution_count": 26,
   "metadata": {},
   "outputs": [
    {
     "data": {
      "text/plain": [
       "array(['j', 'j', 'j', 'j', 'j', 'j', 'j', 'j', 'j', 'j'], dtype='<U1')"
      ]
     },
     "execution_count": 26,
     "metadata": {},
     "output_type": "execute_result"
    }
   ],
   "source": [
    "test = np.array(['j' for i in range(10)])\n",
    "\n",
    "test.astype(np.str_)"
   ]
  },
  {
   "cell_type": "code",
   "execution_count": 5,
   "metadata": {},
   "outputs": [
    {
     "name": "stdout",
     "output_type": "stream",
     "text": [
      "(100, 2)\n",
      "[2.04565023 0.96301524]\n",
      "[[ 3.84185837 -0.46072691]\n",
      " [-0.46072691  4.60405992]]\n"
     ]
    },
    {
     "data": {
      "text/plain": [
       "array([[ 8.24764606, -0.06193135],\n",
       "       [-0.06193135,  7.66325788]])"
      ]
     },
     "execution_count": 5,
     "metadata": {},
     "output_type": "execute_result"
    }
   ],
   "source": [
    "import numpy as np\n",
    "a = np.random.randn(100, 2)/5 + [2,1]\n",
    "b = np.random.randn(100, 2)/5 + [1,2]\n",
    "dim = a.shape[-1]\n",
    "print(a.shape)\n",
    "\n",
    "a_div, b_div = a - np.mean(a, axis=0), b - np.mean(b, axis=0)\n",
    "print(np.mean(a, axis=0))\n",
    "a_mul = np.matmul(a_div.T, a_div) + np.matmul(b_div.T, b_div)\n",
    "print(np.matmul(a_div.T, a_div))\n",
    "a_mul"
   ]
  },
  {
   "cell_type": "code",
   "execution_count": 8,
   "metadata": {},
   "outputs": [
    {
     "name": "stdout",
     "output_type": "stream",
     "text": [
      "(3,) (1, 3)\n"
     ]
    },
    {
     "data": {
      "text/plain": [
       "array([[-1, -1, -1]])"
      ]
     },
     "execution_count": 8,
     "metadata": {},
     "output_type": "execute_result"
    }
   ],
   "source": [
    "import numpy as np\n",
    "a = np.array([1,2,3])\n",
    "b = np.array([[1,2,3], [1,2,4]])\n",
    "\n",
    "b - a\n",
    "\n",
    "c = np.array([[2,3,4]])\n",
    "print(a.shape, c.shape)\n",
    "a - c"
   ]
  },
  {
   "cell_type": "code",
   "execution_count": 1,
   "metadata": {},
   "outputs": [
    {
     "data": {
      "text/plain": [
       "array([0.33333333, 0.25      , 0.2       ])"
      ]
     },
     "execution_count": 1,
     "metadata": {},
     "output_type": "execute_result"
    }
   ],
   "source": [
    "import numpy as np\n",
    "\n",
    "a = np.array([3,4,5])\n",
    "\n",
    "1 / a"
   ]
  },
  {
   "cell_type": "code",
   "execution_count": null,
   "metadata": {},
   "outputs": [],
   "source": []
  }
 ],
 "metadata": {
  "kernelspec": {
   "display_name": "Python 3.8.8 ('base')",
   "language": "python",
   "name": "python3"
  },
  "language_info": {
   "codemirror_mode": {
    "name": "ipython",
    "version": 3
   },
   "file_extension": ".py",
   "mimetype": "text/x-python",
   "name": "python",
   "nbconvert_exporter": "python",
   "pygments_lexer": "ipython3",
   "version": "3.8.8"
  },
  "orig_nbformat": 4,
  "vscode": {
   "interpreter": {
    "hash": "40d3a090f54c6569ab1632332b64b2c03c39dcf918b08424e98f38b5ae0af88f"
   }
  }
 },
 "nbformat": 4,
 "nbformat_minor": 2
}
