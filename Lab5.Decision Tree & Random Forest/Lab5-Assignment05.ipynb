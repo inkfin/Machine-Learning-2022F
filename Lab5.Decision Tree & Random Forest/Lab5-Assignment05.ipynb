{
 "cells": [
  {
   "cell_type": "markdown",
   "id": "c380438e",
   "metadata": {},
   "source": [
    "## LAB05 Assignment  \n",
    "> 11912911 张子越"
   ]
  },
  {
   "cell_type": "markdown",
   "id": "270cce66",
   "metadata": {},
   "source": [
    "\n",
    "This lab introduces classical machine learning algorithms, decision trees (DTs) and their ensemble learning (e.g., Random Forests). Decision trees are important non-parameter learning methods. Although DTs are simple and limited, they still can achieve excellent performance using ensemble learning schemes.\n",
    "\n",
    "For this lab assignment, we'll use the algorithms we've learned today to fit the model and evaluate the model’s prediction performance. The scikit-learn package will be used to save your time.\n",
    "\n",
    "\n",
    "### Decision tree\n",
    "- <font size=4>Step 1. load iris dataset </font>\n",
    "\n",
    "Datasets: First, we load the scikit-learn iris toy dataset ."
   ]
  },
  {
   "cell_type": "code",
   "execution_count": 1,
   "id": "f4c54139",
   "metadata": {},
   "outputs": [],
   "source": [
    "import numpy as np\n",
    "import matplotlib.pyplot as plt\n",
    "\n",
    "from sklearn import datasets\n",
    "iris = datasets.load_iris()"
   ]
  },
  {
   "cell_type": "markdown",
   "id": "3cae61bd",
   "metadata": {},
   "source": [
    "- <font size=4> Step 2. Define the features and the target </font>"
   ]
  },
  {
   "cell_type": "code",
   "execution_count": 2,
   "id": "b7821f8f",
   "metadata": {},
   "outputs": [],
   "source": [
    "X = iris.data[:,2:]  # type: ignore\n",
    "y = iris.target  # type: ignore"
   ]
  },
  {
   "cell_type": "markdown",
   "id": "c1f214de",
   "metadata": {},
   "source": [
    "- <font size=4> Step 3. Visualization </font>\n",
    "  \n",
    "    We need to use proper visualization methods to have an intuitive understanding.\n",
    "\n",
    "    For visualization, only the last 2 attributes are used.\n"
   ]
  },
  {
   "cell_type": "code",
   "execution_count": 3,
   "id": "d55e229e",
   "metadata": {},
   "outputs": [
    {
     "data": {
      "image/png": "[encoded data removed]",
      "text/plain": [
       "<Figure size 432x288 with 1 Axes>"
      ]
     },
     "metadata": {
      "needs_background": "light"
     },
     "output_type": "display_data"
    }
   ],
   "source": [
    "plt.scatter(X[y==0, 0], X[y==0, 1])\n",
    "plt.scatter(X[y==1, 0], X[y==1, 1])\n",
    "plt.scatter(X[y==2, 0], X[y==2, 1])\n",
    "plt.show()"
   ]
  },
  {
   "cell_type": "code",
   "execution_count": 4,
   "id": "ff04fd22-a7b9-4eb4-a4f0-45a60f2b2436",
   "metadata": {},
   "outputs": [
    {
     "data": {
      "text/plain": [
       "150"
      ]
     },
     "execution_count": 4,
     "metadata": {},
     "output_type": "execute_result"
    }
   ],
   "source": [
    "########### Write Your Code Here ###########\n",
    "len(X)\n",
    "############################################"
   ]
  },
  {
   "cell_type": "markdown",
   "id": "323138bd",
   "metadata": {},
   "source": [
    "- <font size=4> Step 4. Preprocessing data </font>\n",
    "Please check whether the data needs to be preprocessed"
   ]
  },
  {
   "cell_type": "code",
   "execution_count": 5,
   "id": "dd936db9",
   "metadata": {},
   "outputs": [],
   "source": [
    "########### Write Your Code Here ###########\n",
    "\n",
    "\n",
    "\n",
    "############################################"
   ]
  },
  {
   "cell_type": "markdown",
   "id": "069a4331",
   "metadata": {},
   "source": [
    "- <font size=4> Step 5. Split the dataset into train and test sets </font>\n",
    "  \n",
    " Now we divide the whole dataset into a training set and a test set using the the scikit-learn model_selection module."
   ]
  },
  {
   "cell_type": "code",
   "execution_count": 6,
   "id": "917b0ce2",
   "metadata": {},
   "outputs": [],
   "source": [
    "########### Write Your Code Here ###########\n",
    "\n",
    "from sklearn.model_selection import train_test_split\n",
    "\n",
    "X_train, X_test, y_train, y_test = train_test_split(X, y, test_size=0.3, random_state=123, shuffle=True, stratify=y)\n",
    "\n",
    "############################################"
   ]
  },
  {
   "cell_type": "markdown",
   "id": "38d565df",
   "metadata": {},
   "source": [
    "- <font size=4> Step 6. Explore the model parameters </font>\n",
    "  \n",
    "Decision trees are quite easy to use, but they are prone to overfit the training data. Actually almost all the non-parameter learning methods suffer from this problem. We can use pruning to optimize our trained decision trees; we can also adjust the super parameters to avoid overfitting.\n",
    "\n",
    "The decision tree model  given by the `SkLearn`  is as follows:\n",
    "\n",
    "```python\n",
    "DecisionTreeClassifier(criterion='gini', splitter='best', max_depth=None, min_samples_split=2, min_samples_leaf=1, min_weight_fraction_leaf=0.0, max_features=None, random_state=None, max_leaf_nodes=None, min_impurity_decrease=0.0, class_weight=None, ccp_alpha=0.0)\n",
    "```\n",
    "There are so many arguments and they are all helpful in adjusting the algorithm parameters to achieve the balance between bias and variance.  \n",
    "Adjust these parameters: `criterion`,`max_depth`, `min_samples_leaf`,  `min_samples_split` , `max_leaf_nodes `,`min_impurity_split `\n",
    "and explain how it affects the bias and variance of the classification results. \n",
    "\n",
    "[Link to sklearn doc about DecisionTreeClasssifier](https://scikit-learn.org/stable/modules/generated/sklearn.tree.DecisionTreeClassifier.html)"
   ]
  },
  {
   "cell_type": "code",
   "execution_count": 7,
   "id": "36708436",
   "metadata": {},
   "outputs": [],
   "source": [
    "########### Write Your Code Here ###########\n",
    "\n",
    "from sklearn.tree import DecisionTreeClassifier\n",
    "from mlxtend.evaluate import bias_variance_decomp\n",
    "\n",
    "x_labels = []\n",
    "model_list = []\n",
    "expected_losses = []\n",
    "avg_biases = []\n",
    "avg_vars = []\n",
    "\n",
    "def try_parameters(criterion:str='gini', \n",
    "                   max_depth=None, \n",
    "                   min_samples_split=2, \n",
    "                   min_samples_leaf=1, \n",
    "                   max_leaf_nodes=None, \n",
    "                   min_impurity_decrease=0.0, \n",
    "                   ccp_alpha=0.0, \n",
    "                   label:str='1') :\n",
    "\n",
    "    DTC = DecisionTreeClassifier(\n",
    "        criterion=criterion, \n",
    "        max_depth=max_depth, \n",
    "        min_samples_split=min_samples_split, \n",
    "        min_samples_leaf=min_samples_leaf, \n",
    "        max_leaf_nodes=max_leaf_nodes, \n",
    "        min_impurity_decrease=min_impurity_decrease, \n",
    "        ccp_alpha=ccp_alpha, \n",
    "        random_state=123\n",
    "        )\n",
    "\n",
    "    DTC.fit(X_train, y_train)\n",
    "\n",
    "    avg_expected_loss, avg_bias, avg_var = bias_variance_decomp(DTC, X_train, y_train, X_test, y_test, loss='0-1_loss',random_seed=123,num_rounds=10)\n",
    "\n",
    "    x_labels.append(label)\n",
    "    model_list.append(DTC)\n",
    "    expected_losses.append(round(avg_expected_loss, 4))\n",
    "    avg_biases.append(round(avg_bias, 4))\n",
    "    avg_vars.append(round(avg_bias, 4))\n",
    "\n",
    "try_parameters(label='default')\n",
    "\n",
    "############################################"
   ]
  },
  {
   "cell_type": "code",
   "execution_count": 8,
   "id": "5cda9d34",
   "metadata": {},
   "outputs": [],
   "source": [
    "try_parameters(criterion='entropy', label='entropy')\n",
    "\n",
    "try_parameters(max_depth=2, label='max_depth=2')\n",
    "try_parameters(max_depth=3, label='max_depth=3')\n",
    "try_parameters(max_depth=4, label='max_depth=4')\n",
    "\n",
    "try_parameters(min_samples_split=30, label='m_s_split=30') # same as max_depth=3 when <= 0.3, otherwise bad\n",
    "try_parameters(min_samples_split=35, label='m_s_split=35')\n",
    "try_parameters(min_samples_split=40, label='m_s_split=40')\n",
    "\n",
    "try_parameters(min_samples_leaf=2, label='m_s_leaf=2')\n",
    "try_parameters(min_samples_leaf=3, label='m_s_leaf=3')\n",
    "try_parameters(min_samples_leaf=4, label='m_s_leaf=4')\n",
    "\n",
    "# 2 explodes\n",
    "try_parameters(max_leaf_nodes=4, label='m_l_nodes=4')\n",
    "try_parameters(max_leaf_nodes=5, label='m_l_nodes=5')\n",
    "try_parameters(max_leaf_nodes=6, label='m_l_nodes=6')\n",
    "\n",
    "try_parameters(min_impurity_decrease=0.005, label='m_i_decrease=.005')\n",
    "try_parameters(min_impurity_decrease=0.01, label='m_i_decrease=.01')\n",
    "try_parameters(min_impurity_decrease=0.05, label='m_i_decrease=.05')\n",
    "\n",
    "try_parameters(ccp_alpha=0.01, label='ccp_alpha=.01')\n",
    "try_parameters(ccp_alpha=0.02, label='ccp_alpha=.02')\n",
    "try_parameters(ccp_alpha=0.025, label='ccp_alpha=.025')\n",
    "\n",
    "try_parameters(max_depth=3, \n",
    "               min_samples_split=35,\n",
    "               min_samples_leaf=3,\n",
    "               max_leaf_nodes=5, \n",
    "               min_impurity_decrease=0.01,\n",
    "               ccp_alpha=0.02,\n",
    "               label='best_each')"
   ]
  },
  {
   "cell_type": "code",
   "execution_count": 9,
   "id": "daecc6b6",
   "metadata": {},
   "outputs": [
    {
     "data": {
      "image/png": "[encoded data removed]",
      "text/plain": [
       "<Figure size 3600x540 with 1 Axes>"
      ]
     },
     "metadata": {
      "needs_background": "light"
     },
     "output_type": "display_data"
    },
    {
     "data": {
      "image/png": "[encoded data removed]",
      "text/plain": [
       "<Figure size 3600x540 with 1 Axes>"
      ]
     },
     "metadata": {
      "needs_background": "light"
     },
     "output_type": "display_data"
    },
    {
     "data": {
      "image/png": "[encoded data removed]",
      "text/plain": [
       "<Figure size 3600x540 with 1 Axes>"
      ]
     },
     "metadata": {
      "needs_background": "light"
     },
     "output_type": "display_data"
    }
   ],
   "source": [
    "x = np.arange(len(x_labels))\n",
    "x_labels_ = [f'{i}: {label}' for i, label in enumerate(x_labels)]\n",
    "figsize = (50, 7.5)\n",
    "\n",
    "plt.figure(figsize=figsize)\n",
    "plt.title(label='expected_losses')\n",
    "plt.xticks(x, x_labels_)\n",
    "plt.bar(x, expected_losses)\n",
    "plt.show()\n",
    "\n",
    "plt.figure(figsize=figsize)\n",
    "plt.title(label='avg_biases')\n",
    "plt.xticks(x, x_labels_)\n",
    "plt.bar(x, avg_biases)\n",
    "plt.show()\n",
    "\n",
    "plt.figure(figsize=figsize)\n",
    "plt.title(label='avg_vars')\n",
    "plt.xticks(x, x_labels_)\n",
    "plt.bar(x, avg_vars)\n",
    "plt.show()"
   ]
  },
  {
   "cell_type": "markdown",
   "id": "cb891b21",
   "metadata": {},
   "source": [
    "#### Comparison: \n",
    "\n",
    "![](1.0_expected_losses.png)\n",
    "\n",
    "\n",
    "![](1.1_avg_biases.png)\n",
    "\n",
    "\n",
    "![](1.2_avg_vars.png)\n",
    "\n",
    "\n",
    "`criterion`: \n",
    "The function of quality measuremt of a split, for example 'gini' and 'log_loss'/'entropy'. 'gini' is a estimation, and 'log_loss' calculates the entropy loss. The prior one is faster since it is easier to calculate, but the score is similar according to the test. \n",
    "\n",
    "`max_depth`: \n",
    "This argument indicates the maximum depth of the tree, default is None, showing that there is no limits. Tuning this arg can prevent model from overfitting. \n",
    "\n",
    "`min_samples_leaf`: \n",
    "This arg indicates the minimum leaf num required to form a leaf node. This can help prevent the split point from generating too many alike splits. \n",
    "\n",
    "`min_samples_split`: \n",
    "This arg indicates the minimum samples required to split an internal node. In the tests above, the loss grows as the arg is higher, when the number reaches 40, the bias and var skyrocket.\n",
    "\n",
    "\n",
    "`max_leaf_nodes`: \n",
    "limitations of the leaf_nodes. Tuning this arg shows too many leafs will increase the loss, bias, and var. \n",
    "\n",
    "\n",
    "`min_impurity_split`: \n",
    "The threshold of impurity required to plit the node. If higher, nodes are more unlikely to split, hence the loss is higher (when testing 0.005, 0.01, 0.05). "
   ]
  },
  {
   "cell_type": "markdown",
   "id": "126c2d7a",
   "metadata": {},
   "source": [
    "Finally, select the best set of parameters for the following steps."
   ]
  },
  {
   "cell_type": "markdown",
   "id": "e02a8954",
   "metadata": {},
   "source": [
    "- <font size=4> Step 7. Use the model of your choice on the test set </font>\n"
   ]
  },
  {
   "cell_type": "code",
   "execution_count": 10,
   "id": "a8463770",
   "metadata": {},
   "outputs": [
    {
     "data": {
      "text/plain": [
       "0.9777777777777777"
      ]
     },
     "execution_count": 10,
     "metadata": {},
     "output_type": "execute_result"
    }
   ],
   "source": [
    "########### Write Your Code Here ###########\n",
    "DTC = model_list[11]\n",
    "\n",
    "y_pred = DTC.predict(X_test)\n",
    "\n",
    "from sklearn.metrics import accuracy_score\n",
    "\n",
    "accuracy_score(y_test, y_pred)\n",
    "\n",
    "############################################"
   ]
  },
  {
   "cell_type": "markdown",
   "id": "cf2ce1a6",
   "metadata": {},
   "source": [
    "- <font size=4> Step 8. Evaluate the model </font>"
   ]
  },
  {
   "cell_type": "code",
   "execution_count": 11,
   "id": "cfe1a334",
   "metadata": {},
   "outputs": [
    {
     "name": "stdout",
     "output_type": "stream",
     "text": [
      "Average Expected Loss: 0.04n\n",
      "Average Bias: 0.0222\n",
      "Average Variance: 0.0178\n"
     ]
    }
   ],
   "source": [
    "########### Write Your Code Here ###########\n",
    "\n",
    "avg_expected_loss, avg_bias, avg_var = bias_variance_decomp(DTC, X_train, y_train, X_test, y_test, loss='0-1_loss',random_seed=123,num_rounds=10)\n",
    "\n",
    "print(f'Average Expected Loss: {round(avg_expected_loss, 4)}n')\n",
    "print(f'Average Bias: {round(avg_bias, 4)}')\n",
    "print(f'Average Variance: {round(avg_var, 4)}')\n",
    "\n",
    "############################################"
   ]
  },
  {
   "cell_type": "markdown",
   "id": "ccb79fce",
   "metadata": {},
   "source": [
    "- <font size=4> Step 9. Visual decision boundary and generated decision tree </font>"
   ]
  },
  {
   "cell_type": "code",
   "execution_count": 12,
   "id": "f04d5ebe",
   "metadata": {},
   "outputs": [
    {
     "data": {
      "image/png": "[encoded data removed]",
      "text/plain": [
       "<Figure size 432x288 with 1 Axes>"
      ]
     },
     "metadata": {
      "needs_background": "light"
     },
     "output_type": "display_data"
    },
    {
     "data": {
      "image/png": "[encoded data removed]",
      "text/plain": [
       "<Figure size 432x288 with 1 Axes>"
      ]
     },
     "metadata": {
      "needs_background": "light"
     },
     "output_type": "display_data"
    }
   ],
   "source": [
    "########### Write Your Code Here ###########\n",
    "\n",
    "from mlxtend.plotting import plot_decision_regions\n",
    "\n",
    "plot_decision_regions(X_train, y_train, clf=DTC)\n",
    "\n",
    "plt.show()\n",
    "\n",
    "plot_decision_regions(X_test, y_test, clf=DTC)\n",
    "\n",
    "plt.show()\n",
    "\n",
    "############################################"
   ]
  },
  {
   "cell_type": "markdown",
   "id": "acbf4b92",
   "metadata": {},
   "source": [
    "### Random forest\n",
    "\n",
    "In this section, you are required to use random forests for classification. Thus, in `scikit-learn`, there are two ways to implement a random forset, from the Bagging view and from the RF view.<br>\n",
    "Classify `iris`  using `BaggingClassifier( )` and `RandomForestClassifier( )` respectively, \n",
    "\n",
    "- <font color=blue >**RF view:**</font> we construct a RF class directly.\n",
    "  \n",
    "```python\n",
    "# Use Random Forest directly\n",
    "\n",
    "from sklearn.ensemble import RandomForestClassifier\n",
    "\n",
    "rf_clf = RandomForestClassifier(n_estimators=300,\n",
    "                                random_state=666, # random attributes subset\n",
    "                                oob_score=True,\n",
    "                                # n_jobs=-1\n",
    "                               )\n",
    "rf_clf.fit(X,y)\n",
    "```\n",
    "\n",
    "- <font color=blue face=雅黑>**Bagging view:**</font>  we use the bagging algorithm with a number of base learning algorithms of decision trees.\n",
    "  \n",
    "```python\n",
    "# Use Random Forest from Bagging view\n",
    "\n",
    "from sklearn.ensemble import BaggingClassifier\n",
    "\n",
    "bagging_clf = BaggingClassifier(DecisionTreeClassifier(),\n",
    "                                n_estimators=300,\n",
    "                                max_samples=300,\n",
    "                                bootstrap=True, # using bootstrap sampling method\n",
    "                                oob_score=True, # use oob data for scoring\n",
    "                                # n_jobs=-1 # use paralell computing\n",
    "                               )\n",
    "bagging_clf.fit(X,y)\n",
    "```\n",
    "\n",
    "- Compare the performances of two  methods, and select different parameters for model  and evaluate the model using bias and variance\n",
    "\n",
    "\n"
   ]
  },
  {
   "cell_type": "code",
   "execution_count": null,
   "id": "9c3b3006",
   "metadata": {},
   "outputs": [],
   "source": [
    "########### Write Your Code Here ###########\n",
    "\n",
    "############################################"
   ]
  },
  {
   "cell_type": "markdown",
   "id": "e507135b",
   "metadata": {},
   "source": [
    "### Other ensemble learning\n",
    "For classification, we have many models to choose . Please don't just pick a model to train and say it's good enough. We need to select models based on some metrics, such as choosing models with low bias and low variance.\n",
    "\n",
    "In this part, you are required  to use `AdaBoost` and `Gradient boosting`.Compare their performances with decision tree and random forest, and finally select the best model  and the optimal  parameters for iris classification.\n",
    "\n",
    "\n"
   ]
  },
  {
   "cell_type": "code",
   "execution_count": null,
   "id": "cd238229",
   "metadata": {},
   "outputs": [],
   "source": [
    "########### Write Your Code Here ###########\n",
    "\n",
    "############################################"
   ]
  },
  {
   "cell_type": "markdown",
   "id": "c4ada32b",
   "metadata": {},
   "source": [
    "\n",
    "<font size=4>Hint: About how to select models and parameters:</font>\n",
    "- Select model using cross validation. Compare the scores in the training set and the validation set. If they are good enough, use the model in the test set.\n",
    "- Calculate the bias and variance of each model to further analyze your chosen model.\n",
    "- Select parameters using cross validation\n",
    "  \n",
    "### Questions:\n",
    "(1) Can decision trees and random forests be used for unsupervised clustering or data dimension reduction? Why?\n",
    "\n",
    "(2) What are the strengths of the decision tree/random forest methods; when do they perform well?\n",
    "\n",
    "(3) What are the weaknesses of the decision tree/random forest methods; when do they perform poorly?\n",
    "\n",
    "(4) What makes the decision tree/random forest a good candidate for the classification/regression problem, if you have enough knowledge about the data?"
   ]
  },
  {
   "cell_type": "markdown",
   "id": "9e916b74",
   "metadata": {},
   "source": [
    "## Conclusion\n",
    "- Decision trees are prone to overfitting, but random forest algorithm prevents overfitting.\n",
    "- Random forest algorithm is comparatively time-consuming, whereas decision tree algorithm gives fast results.\n",
    "- There are many arguments for either base decision trees or the whole ensemble algorithm.  A good ensemble algorithm should make sure that base ones are both accurate and diversified.  So it is better to get a set of good enough base tree parameters before training the ensemble learning algorithm. "
   ]
  },
  {
   "cell_type": "markdown",
   "id": "f1c0c458",
   "metadata": {},
   "source": [
    "## References\n",
    "https://scikit-learn.org/stable/"
   ]
  }
 ],
 "metadata": {
  "kernelspec": {
   "display_name": "Python 3.8.8 ('base')",
   "language": "python",
   "name": "python3"
  },
  "language_info": {
   "codemirror_mode": {
    "name": "ipython",
    "version": 3
   },
   "file_extension": ".py",
   "mimetype": "text/x-python",
   "name": "python",
   "nbconvert_exporter": "python",
   "pygments_lexer": "ipython3",
   "version": "3.8.8"
  },
  "toc": {
   "base_numbering": 1,
   "nav_menu": {},
   "number_sections": true,
   "sideBar": true,
   "skip_h1_title": true,
   "title_cell": "Table of Contents",
   "title_sidebar": "Contents",
   "toc_cell": true,
   "toc_position": {
    "height": "calc(100% - 180px)",
    "left": "10px",
    "top": "150px",
    "width": "244.667px"
   },
   "toc_section_display": true,
   "toc_window_display": false
  },
  "vscode": {
   "interpreter": {
    "hash": "40d3a090f54c6569ab1632332b64b2c03c39dcf918b08424e98f38b5ae0af88f"
   }
  }
 },
 "nbformat": 4,
 "nbformat_minor": 5
}
